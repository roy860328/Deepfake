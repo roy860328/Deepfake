{
 "cells": [
  {
   "cell_type": "code",
   "execution_count": 1,
   "metadata": {},
   "outputs": [
    {
     "name": "stderr",
     "output_type": "stream",
     "text": [
      "C:\\Anaconda3\\envs\\py36\\lib\\site-packages\\numpy\\_distributor_init.py:32: UserWarning: loaded more than 1 DLL from .libs:\n",
      "C:\\Anaconda3\\envs\\py36\\lib\\site-packages\\numpy\\.libs\\libopenblas.PYQHXLVVQ7VESDPUVUADXEVJOBGHJPAY.gfortran-win_amd64.dll\n",
      "C:\\Anaconda3\\envs\\py36\\lib\\site-packages\\numpy\\.libs\\libopenblas.TXA6YQSD3GCQQC22GEQ54J2UDCXDXHWN.gfortran-win_amd64.dll\n",
      "  stacklevel=1)\n"
     ]
    },
    {
     "name": "stdout",
     "output_type": "stream",
     "text": [
      "{'aassnaulhq.mp4': {'label': 'FAKE'}, 'aayfryxljh.mp4': {'label': 'FAKE'}, 'acazlolrpz.mp4': {'label': 'FAKE'}, 'adohdulfwb.mp4': {'label': 'FAKE'}, 'ahjnxtiamx.mp4': {'label': 'FAKE'}, 'ajiyrjfyzp.mp4': {'label': 'FAKE'}, 'aktnlyqpah.mp4': {'label': 'FAKE'}, 'alrtntfxtd.mp4': {'label': 'FAKE'}, 'aomqqjipcp.mp4': {'label': 'FAKE'}, 'apedduehoy.mp4': {'label': 'FAKE'}, 'apvzjkvnwn.mp4': {'label': 'FAKE'}, 'aqrsylrzgi.mp4': {'label': 'FAKE'}, 'axfhbpkdlc.mp4': {'label': 'FAKE'}, 'ayipraspbn.mp4': {'label': 'FAKE'}, 'bcbqxhziqz.mp4': {'label': 'FAKE'}, 'bcvheslzrq.mp4': {'label': 'FAKE'}, 'bdshuoldwx.mp4': {'label': 'FAKE'}, 'bfdopzvxbi.mp4': {'label': 'FAKE'}, 'bfjsthfhbd.mp4': {'label': 'FAKE'}, 'bjyaxvggle.mp4': {'label': 'FAKE'}, 'bkcyglmfci.mp4': {'label': 'FAKE'}, 'bktkwbcawi.mp4': {'label': 'FAKE'}, 'bkuzquigyt.mp4': {'label': 'FAKE'}, 'blnmxntbey.mp4': {'label': 'FAKE'}, 'blszgmxkvu.mp4': {'label': 'FAKE'}, 'bnuwxhfahw.mp4': {'label': 'FAKE'}, 'bofrwgeyjo.mp4': {'label': 'FAKE'}, 'btdxnajogv.mp4': {'label': 'FAKE'}, 'bvpeerislp.mp4': {'label': 'FAKE'}, 'bwdmzwhdnw.mp4': {'label': 'FAKE'}, 'bzvzpwrabw.mp4': {'label': 'FAKE'}, 'cekarydqba.mp4': {'label': 'FAKE'}, 'cekwtyxdoo.mp4': {'label': 'FAKE'}, 'cjkctqqakb.mp4': {'label': 'FAKE'}, 'cnpanmywno.mp4': {'label': 'FAKE'}, 'cnxccbjlct.mp4': {'label': 'FAKE'}, 'coqwgzpbhx.mp4': {'label': 'FAKE'}, 'cosghhimnd.mp4': {'label': 'FAKE'}, 'coujjnypba.mp4': {'label': 'FAKE'}, 'cqhwesrciw.mp4': {'label': 'FAKE'}, 'cqxxumarvp.mp4': {'label': 'FAKE'}, 'csnkohqxdv.mp4': {'label': 'FAKE'}, 'cxsvvnxpyz.mp4': {'label': 'FAKE'}, 'czfqlbcfpa.mp4': {'label': 'FAKE'}, 'dcqodpzomd.mp4': {'label': 'FAKE'}, 'ddtbarpcgo.mp4': {'label': 'FAKE'}, 'demuhxssgl.mp4': {'label': 'FAKE'}, 'didzujjhtg.mp4': {'label': 'FAKE'}, 'dkuqbduxev.mp4': {'label': 'FAKE'}, 'dmmvuaikkv.mp4': {'label': 'FAKE'}, 'dnmowthjcj.mp4': {'label': 'FAKE'}, 'doniqevxeg.mp4': {'label': 'FAKE'}, 'dozjwhnedd.mp4': {'label': 'FAKE'}, 'dpevefkefv.mp4': {'label': 'FAKE'}, 'dpmgoiwhuf.mp4': {'label': 'FAKE'}, 'dsnxgrfdmd.mp4': {'label': 'FAKE'}, 'dtozwcapoa.mp4': {'label': 'FAKE'}, 'dvkdfhrpph.mp4': {'label': 'FAKE'}, 'dvtpwatuja.mp4': {'label': 'FAKE'}, 'dvwpvqdflx.mp4': {'label': 'FAKE'}, 'dxfdovivlw.mp4': {'label': 'FAKE'}, 'dxgnpnowgk.mp4': {'label': 'FAKE'}, 'dyjklprkoc.mp4': {'label': 'FAKE'}, 'dzkyxbbqkr.mp4': {'label': 'FAKE'}, 'dzojiwfvba.mp4': {'label': 'FAKE'}, 'ecumyiowzs.mp4': {'label': 'FAKE'}, 'eisofhptvk.mp4': {'label': 'FAKE'}, 'ekboxwrwuv.mp4': {'label': 'FAKE'}, 'ekelfsnqof.mp4': {'label': 'FAKE'}, 'ekvwecwltj.mp4': {'label': 'FAKE'}, 'elackxuccp.mp4': {'label': 'FAKE'}, 'eppyqpgewp.mp4': {'label': 'FAKE'}, 'eqslzbqfea.mp4': {'label': 'FAKE'}, 'eryjktdexi.mp4': {'label': 'FAKE'}, 'esjdyghhog.mp4': {'label': 'FAKE'}, 'esmqxszybs.mp4': {'label': 'FAKE'}, 'espkiocpxq.mp4': {'label': 'FAKE'}, 'etdliwticv.mp4': {'label': 'FAKE'}, 'evysmtpnrf.mp4': {'label': 'FAKE'}, 'eyguqfmgzh.mp4': {'label': 'FAKE'}, 'eywdmustbb.mp4': {'label': 'FAKE'}, 'famlupsgqm.mp4': {'label': 'FAKE'}, 'fddmkqjwsh.mp4': {'label': 'FAKE'}, 'fjrueenjyp.mp4': {'label': 'FAKE'}, 'fjxovgmwnm.mp4': {'label': 'FAKE'}, 'fmhiujydwo.mp4': {'label': 'FAKE'}, 'fmvvmcbdrw.mp4': {'label': 'FAKE'}, 'fneqiqpqvs.mp4': {'label': 'FAKE'}, 'fnxgqcvlsd.mp4': {'label': 'FAKE'}, 'fopjiyxiqd.mp4': {'label': 'FAKE'}, 'fpevfidstw.mp4': {'label': 'FAKE'}, 'fqgypsunzr.mp4': {'label': 'FAKE'}, 'frqfsucgao.mp4': {'label': 'FAKE'}, 'fsdrwikhge.mp4': {'label': 'FAKE'}, 'fwykevubzy.mp4': {'label': 'FAKE'}, 'fxuxxtryjn.mp4': {'label': 'FAKE'}, 'fzvpbrzssi.mp4': {'label': 'FAKE'}, 'gahgyuwzbu.mp4': {'label': 'FAKE'}, 'gbnzicjyhz.mp4': {'label': 'FAKE'}, 'gccnvdoknm.mp4': {'label': 'FAKE'}, 'gcdtglsoqj.mp4': {'label': 'FAKE'}, 'gfcycflhbo.mp4': {'label': 'FAKE'}, 'gfdjzwnpyp.mp4': {'label': 'FAKE'}, 'gfgcwxkbjd.mp4': {'label': 'FAKE'}, 'ggdpclfcgk.mp4': {'label': 'FAKE'}, 'ggzjfrirjh.mp4': {'label': 'FAKE'}, 'ghnpsltzyn.mp4': {'label': 'FAKE'}, 'gkutjglghz.mp4': {'label': 'FAKE'}, 'gochxzemmq.mp4': {'label': 'FAKE'}, 'gpsxfxrjrr.mp4': {'label': 'FAKE'}, 'gqnaxievjx.mp4': {'label': 'FAKE'}, 'gunamloolc.mp4': {'label': 'FAKE'}, 'halvwiltfs.mp4': {'label': 'FAKE'}, 'hbufmvbium.mp4': {'label': 'FAKE'}, 'hcanfkwivl.mp4': {'label': 'FAKE'}, 'hclsparpth.mp4': {'label': 'FAKE'}, 'hefisnapds.mp4': {'label': 'FAKE'}, 'heiyoojifp.mp4': {'label': 'FAKE'}, 'hevcclcklc.mp4': {'label': 'FAKE'}, 'hfsvqabzfq.mp4': {'label': 'FAKE'}, 'hicjuubiau.mp4': {'label': 'FAKE'}, 'hierggamuo.mp4': {'label': 'FAKE'}, 'hitfycdavv.mp4': {'label': 'FAKE'}, 'hnfwagcxdf.mp4': {'label': 'FAKE'}, 'honxqdilvv.mp4': {'label': 'FAKE'}, 'hqzwudvhih.mp4': {'label': 'FAKE'}, 'hsbljbsgxr.mp4': {'label': 'FAKE'}, 'hsbwhlolsn.mp4': {'label': 'FAKE'}, 'hszwwswewp.mp4': {'label': 'FAKE'}, 'htzbnroagi.mp4': {'label': 'FAKE'}, 'huvlwkxoxm.mp4': {'label': 'FAKE'}, 'hweshqpfwe.mp4': {'label': 'FAKE'}, 'hxwtsaydal.mp4': {'label': 'FAKE'}, 'hyjqolupxn.mp4': {'label': 'FAKE'}, 'hzoiotcykp.mp4': {'label': 'FAKE'}, 'hzssdinxec.mp4': {'label': 'FAKE'}, 'ibxfxggtqh.mp4': {'label': 'FAKE'}, 'icbsahlivv.mp4': {'label': 'FAKE'}, 'igpvrfjdzc.mp4': {'label': 'FAKE'}, 'ihglzxzroo.mp4': {'label': 'FAKE'}, 'iksxzpqxzi.mp4': {'label': 'FAKE'}, 'ilqwcbprqa.mp4': {'label': 'FAKE'}, 'imdmhwkkni.mp4': {'label': 'FAKE'}, 'iorbtaarte.mp4': {'label': 'FAKE'}, 'ipkpxvwroe.mp4': {'label': 'FAKE'}, 'ipvwtgdlre.mp4': {'label': 'FAKE'}, 'irqzdokcws.mp4': {'label': 'FAKE'}, 'itfsvvmslp.mp4': {'label': 'FAKE'}, 'iznnzjvaxc.mp4': {'label': 'FAKE'}, 'jawgcggquk.mp4': {'label': 'FAKE'}, 'jhczqfefgw.mp4': {'label': 'FAKE'}, 'jiavqbrkyk.mp4': {'label': 'FAKE'}, 'jiswxuqzyz.mp4': {'label': 'FAKE'}, 'jquevmhdvc.mp4': {'label': 'FAKE'}, 'jsbpkpxwew.mp4': {'label': 'FAKE'}, 'jsysgmycsx.mp4': {'label': 'FAKE'}, 'jyfvaequfg.mp4': {'label': 'FAKE'}, 'jyoxdvxpza.mp4': {'label': 'FAKE'}, 'jytrvwlewz.mp4': {'label': 'FAKE'}, 'jzmzdispyo.mp4': {'label': 'FAKE'}, 'kcjvhgvhpt.mp4': {'label': 'FAKE'}, 'keioymnobc.mp4': {'label': 'FAKE'}, 'kezwvsxxzj.mp4': {'label': 'FAKE'}, 'khpipxnsvx.mp4': {'label': 'FAKE'}, 'kmcdjxmnoa.mp4': {'label': 'FAKE'}, 'kmqkiihrmj.mp4': {'label': 'FAKE'}, 'knxltsvzyu.mp4': {'label': 'FAKE'}, 'kowiwvrjht.mp4': {'label': 'FAKE'}, 'kqlvggiqee.mp4': {'label': 'FAKE'}, 'kvmpmhdxly.mp4': {'label': 'FAKE'}, 'kwfdyqofzw.mp4': {'label': 'FAKE'}, 'lbfqksftuo.mp4': {'label': 'FAKE'}, 'lbigytrrtr.mp4': {'label': 'FAKE'}, 'lebzjtusnr.mp4': {'label': 'FAKE'}, 'lhvjzhjxdp.mp4': {'label': 'FAKE'}, 'ljauauuyka.mp4': {'label': 'FAKE'}, 'ljouzjaqqe.mp4': {'label': 'FAKE'}, 'llplvmcvbl.mp4': {'label': 'FAKE'}, 'lmdyicksrv.mp4': {'label': 'FAKE'}, 'lnhkjhyhvw.mp4': {'label': 'FAKE'}, 'lnjkpdviqb.mp4': {'label': 'FAKE'}, 'lpgxwdgnio.mp4': {'label': 'FAKE'}, 'lpkgabskbw.mp4': {'label': 'FAKE'}, 'lujvyveojc.mp4': {'label': 'FAKE'}, 'lyoslorecs.mp4': {'label': 'FAKE'}, 'mdfndlljvt.mp4': {'label': 'FAKE'}, 'mkmgcxaztt.mp4': {'label': 'FAKE'}, 'mkzaekkvej.mp4': {'label': 'FAKE'}, 'mllzkpgatp.mp4': {'label': 'FAKE'}, 'mnowxangqx.mp4': {'label': 'FAKE'}, 'mnzabbkpmt.mp4': {'label': 'FAKE'}, 'mohiqoogpb.mp4': {'label': 'FAKE'}, 'mszblrdprw.mp4': {'label': 'FAKE'}, 'mwnibuujwz.mp4': {'label': 'FAKE'}, 'mwwploizlj.mp4': {'label': 'FAKE'}, 'mxahsihabr.mp4': {'label': 'FAKE'}, 'mxlipjhmqk.mp4': {'label': 'FAKE'}, 'ncmpqwmnzb.mp4': {'label': 'FAKE'}, 'ncoeewrdlo.mp4': {'label': 'FAKE'}, 'ndikguxzek.mp4': {'label': 'FAKE'}, 'nikynwcvuh.mp4': {'label': 'FAKE'}, 'njzshtfmcw.mp4': {'label': 'FAKE'}, 'nkhzxomani.mp4': {'label': 'FAKE'}, 'novarhxpbj.mp4': {'label': 'FAKE'}, 'nplviymzlg.mp4': {'label': 'FAKE'}, 'nswtvttxre.mp4': {'label': 'FAKE'}, 'nthpnwylxo.mp4': {'label': 'FAKE'}, 'nwvloufjty.mp4': {'label': 'FAKE'}, 'nwvsbmyndn.mp4': {'label': 'FAKE'}, 'nxgzmgzkfv.mp4': {'label': 'FAKE'}, 'nxnmkytwze.mp4': {'label': 'FAKE'}, 'nxzgekegsp.mp4': {'label': 'FAKE'}, 'nycmyuzpml.mp4': {'label': 'FAKE'}, 'nymodlmxni.mp4': {'label': 'FAKE'}, 'oaguiggjyv.mp4': {'label': 'FAKE'}, 'ocgdbrgmtq.mp4': {'label': 'FAKE'}, 'oefukgnvel.mp4': {'label': 'FAKE'}, 'oelqpetgwj.mp4': {'label': 'FAKE'}, 'ojsxxkalat.mp4': {'label': 'FAKE'}, 'okgelildpc.mp4': {'label': 'FAKE'}, 'omphqltjdd.mp4': {'label': 'FAKE'}, 'ooafcxxfrs.mp4': {'label': 'FAKE'}, 'oocincvedt.mp4': {'label': 'FAKE'}, 'oojxonbgow.mp4': {'label': 'FAKE'}, 'opvqdabdap.mp4': {'label': 'FAKE'}, 'orekjthsef.mp4': {'label': 'FAKE'}, 'orixbcfvdz.mp4': {'label': 'FAKE'}, 'ouaowjmigq.mp4': {'label': 'FAKE'}, 'owaogcehvc.mp4': {'label': 'FAKE'}, 'oyqgwjdwaj.mp4': {'label': 'FAKE'}, 'oysopgovhu.mp4': {'label': 'FAKE'}, 'papagllumt.mp4': {'label': 'FAKE'}, 'pcoxcmtroa.mp4': {'label': 'FAKE'}, 'pcyswtgick.mp4': {'label': 'FAKE'}, 'pdswwyyntw.mp4': {'label': 'FAKE'}, 'pdufsewrec.mp4': {'label': 'FAKE'}, 'petmyhjclt.mp4': {'label': 'FAKE'}, 'phjvutxpoi.mp4': {'label': 'FAKE'}, 'pqdeutauqc.mp4': {'label': 'FAKE'}, 'pqthmvwonf.mp4': {'label': 'FAKE'}, 'prhmixykhr.mp4': {'label': 'FAKE'}, 'prwsfljdjo.mp4': {'label': 'FAKE'}, 'psesikjaxx.mp4': {'label': 'FAKE'}, 'ptbfnkajyi.mp4': {'label': 'FAKE'}, 'ptbnewtvon.mp4': {'label': 'FAKE'}, 'pxcfrszlgi.mp4': {'label': 'FAKE'}, 'pxjkzvqomp.mp4': {'label': 'FAKE'}, 'qarqtkvgby.mp4': {'label': 'FAKE'}, 'qcbkztamqc.mp4': {'label': 'FAKE'}, 'qclpbcbgeq.mp4': {'label': 'FAKE'}, 'qdqdsaiitt.mp4': {'label': 'FAKE'}, 'qhkzlnzruj.mp4': {'label': 'FAKE'}, 'qhsehzgxqj.mp4': {'label': 'FAKE'}, 'qlqhjcshpk.mp4': {'label': 'FAKE'}, 'qlvsqdroqo.mp4': {'label': 'FAKE'}, 'qooxnxqqjb.mp4': {'label': 'FAKE'}, 'qqnlrngaft.mp4': {'label': 'FAKE'}, 'qsjiypnjwi.mp4': {'label': 'FAKE'}, 'qswlzfgcgj.mp4': {'label': 'FAKE'}, 'qxyrtwozyw.mp4': {'label': 'FAKE'}, 'qyyhuvqmyf.mp4': {'label': 'FAKE'}, 'rcecrgeotc.mp4': {'label': 'FAKE'}, 'rcjfxxhcal.mp4': {'label': 'FAKE'}, 'rerpivllud.mp4': {'label': 'FAKE'}, 'rfjuhbnlro.mp4': {'label': 'FAKE'}, 'rfwxcinshk.mp4': {'label': 'FAKE'}, 'rklawjhbpv.mp4': {'label': 'FAKE'}, 'rktrpsdlci.mp4': {'label': 'FAKE'}, 'rmlzgerevr.mp4': {'label': 'FAKE'}, 'rmufsuogzn.mp4': {'label': 'FAKE'}, 'rnfcjxynfa.mp4': {'label': 'FAKE'}, 'rrrfjhugvb.mp4': {'label': 'FAKE'}, 'rtpbawlmxr.mp4': {'label': 'FAKE'}, 'ruhtnngrqv.mp4': {'label': 'FAKE'}, 'rukyxomwcx.mp4': {'label': 'FAKE'}, 'rvvpazsffd.mp4': {'label': 'FAKE'}, 'rxdoimqble.mp4': {'label': 'FAKE'}, 'ryxaqpfubf.mp4': {'label': 'FAKE'}, 'scbdenmaed.mp4': {'label': 'FAKE'}, 'scrbqgpvzz.mp4': {'label': 'FAKE'}, 'sfsayjgzrh.mp4': {'label': 'FAKE'}, 'shnsajrsow.mp4': {'label': 'FAKE'}, 'siebfpwuhu.mp4': {'label': 'FAKE'}, 'sjinmmbipg.mp4': {'label': 'FAKE'}, 'sjkfxrlxxs.mp4': {'label': 'FAKE'}, 'sjwywglgym.mp4': {'label': 'FAKE'}, 'sktpeppbkc.mp4': {'label': 'FAKE'}, 'sngjsueuhs.mp4': {'label': 'FAKE'}, 'snlyjbnpgw.mp4': {'label': 'FAKE'}, 'sodvtfqbpf.mp4': {'label': 'FAKE'}, 'sqixhnilfm.mp4': {'label': 'FAKE'}, 'srfefmyjvt.mp4': {'label': 'FAKE'}, 'sufvvwmbha.mp4': {'label': 'FAKE'}, 'swsaoktwgi.mp4': {'label': 'FAKE'}, 'sylnrepacf.mp4': {'label': 'FAKE'}, 'syuxttuyhm.mp4': {'label': 'FAKE'}, 'syxobtuucp.mp4': {'label': 'FAKE'}, 'sznkemeqro.mp4': {'label': 'FAKE'}, 'tejfudfgpq.mp4': {'label': 'FAKE'}, 'temeqbmzxu.mp4': {'label': 'FAKE'}, 'temjefwaas.mp4': {'label': 'FAKE'}, 'tgawasvbbr.mp4': {'label': 'FAKE'}, 'tjuihawuqm.mp4': {'label': 'FAKE'}, 'tjywwgftmv.mp4': {'label': 'FAKE'}, 'toinozytsp.mp4': {'label': 'FAKE'}, 'tvhjcfnqtg.mp4': {'label': 'FAKE'}, 'txmnoyiyte.mp4': {'label': 'FAKE'}, 'txnmkabufs.mp4': {'label': 'FAKE'}, 'tyjpjpglgx.mp4': {'label': 'FAKE'}, 'tynfsthodx.mp4': {'label': 'FAKE'}, 'ucthmsajay.mp4': {'label': 'FAKE'}, 'udxqbhgvvx.mp4': {'label': 'FAKE'}, 'uhakqelqri.mp4': {'label': 'FAKE'}, 'uhrqlmlclw.mp4': {'label': 'FAKE'}, 'uoccaiathd.mp4': {'label': 'FAKE'}, 'upmgtackuf.mp4': {'label': 'FAKE'}, 'uqvxjfpwdo.mp4': {'label': 'FAKE'}, 'usqqvxcjmg.mp4': {'label': 'FAKE'}, 'uubgqnvfdl.mp4': {'label': 'FAKE'}, 'uvrzaczrbx.mp4': {'label': 'FAKE'}, 'uxuvkrjhws.mp4': {'label': 'FAKE'}, 'vajkicalux.mp4': {'label': 'FAKE'}, 'vbcgoyxsvn.mp4': {'label': 'FAKE'}, 'vdtsbqidjb.mp4': {'label': 'FAKE'}, 'vhbbwdflyh.mp4': {'label': 'FAKE'}, 'viteugozpv.mp4': {'label': 'FAKE'}, 'vizerpsvbz.mp4': {'label': 'FAKE'}, 'vjljdfopjg.mp4': {'label': 'FAKE'}, 'vmxfwxgdei.mp4': {'label': 'FAKE'}, 'vnlzxqwthl.mp4': {'label': 'FAKE'}, 'voawxrmqyl.mp4': {'label': 'FAKE'}, 'vokrpfjpeb.mp4': {'label': 'FAKE'}, 'vssmlqoiti.mp4': {'label': 'FAKE'}, 'vtunvalyji.mp4': {'label': 'FAKE'}, 'vurjckblge.mp4': {'label': 'FAKE'}, 'vvfszaosiv.mp4': {'label': 'FAKE'}, 'vwxednhlwz.mp4': {'label': 'FAKE'}, 'wadvzjhwtw.mp4': {'label': 'FAKE'}, 'waucvvmtkq.mp4': {'label': 'FAKE'}, 'wclvkepakb.mp4': {'label': 'FAKE'}, 'wcqvzujamg.mp4': {'label': 'FAKE'}, 'wcssbghcpc.mp4': {'label': 'FAKE'}, 'wcvsqnplsk.mp4': {'label': 'FAKE'}, 'wfzjxzhdkj.mp4': {'label': 'FAKE'}, 'wixbuuzygv.mp4': {'label': 'FAKE'}, 'wjhpisoeaj.mp4': {'label': 'FAKE'}, 'wmoqzxddkb.mp4': {'label': 'FAKE'}, 'wndursivcx.mp4': {'label': 'FAKE'}, 'wnlubukrki.mp4': {'label': 'FAKE'}, 'wqysrieiqu.mp4': {'label': 'FAKE'}, 'wvgviwnwob.mp4': {'label': 'FAKE'}, 'wynotylpnm.mp4': {'label': 'FAKE'}, 'xcruhaccxc.mp4': {'label': 'FAKE'}, 'xdezcezszc.mp4': {'label': 'FAKE'}, 'xhtppuyqdr.mp4': {'label': 'FAKE'}, 'xitgdpzbxv.mp4': {'label': 'FAKE'}, 'xjvxtuakyd.mp4': {'label': 'FAKE'}, 'xljemofssi.mp4': {'label': 'FAKE'}, 'xmkwsnuzyq.mp4': {'label': 'FAKE'}, 'xphdfgmfmz.mp4': {'label': 'FAKE'}, 'xrtvqhdibb.mp4': {'label': 'FAKE'}, 'xugmhbetrw.mp4': {'label': 'FAKE'}, 'xxzefxwyku.mp4': {'label': 'FAKE'}, 'yarpxfqejd.mp4': {'label': 'FAKE'}, 'yaxgpxhavq.mp4': {'label': 'FAKE'}, 'ybbrkacebd.mp4': {'label': 'FAKE'}, 'yhjlnisfel.mp4': {'label': 'FAKE'}, 'yhylappzid.mp4': {'label': 'FAKE'}, 'yietrwuncf.mp4': {'label': 'FAKE'}, 'yiykshcbaz.mp4': {'label': 'FAKE'}, 'yljecirelf.mp4': {'label': 'FAKE'}, 'yllztsrwjw.mp4': {'label': 'FAKE'}, 'ylxwcwhjjd.mp4': {'label': 'FAKE'}, 'yoyhmxtrys.mp4': {'label': 'FAKE'}, 'ypbtpunjvm.mp4': {'label': 'FAKE'}, 'yqhouqakbx.mp4': {'label': 'FAKE'}, 'yronlutbgm.mp4': {'label': 'FAKE'}, 'ystdtnetgj.mp4': {'label': 'FAKE'}, 'ytddugrwph.mp4': {'label': 'FAKE'}, 'ytopzxrswu.mp4': {'label': 'FAKE'}, 'ywauoonmlr.mp4': {'label': 'FAKE'}, 'ywxpquomgt.mp4': {'label': 'FAKE'}, 'yxadevzohx.mp4': {'label': 'FAKE'}, 'yxirnfyijn.mp4': {'label': 'FAKE'}, 'yxvmusxvcz.mp4': {'label': 'FAKE'}, 'yzuestxcbq.mp4': {'label': 'FAKE'}, 'zbgssotnjm.mp4': {'label': 'FAKE'}, 'zcxcmneefk.mp4': {'label': 'FAKE'}, 'zfobicuigx.mp4': {'label': 'FAKE'}, 'zfrrixsimm.mp4': {'label': 'FAKE'}, 'zgbhzkditd.mp4': {'label': 'FAKE'}, 'zgjosltkie.mp4': {'label': 'FAKE'}, 'ziipxxchai.mp4': {'label': 'FAKE'}, 'zmxeiipnqb.mp4': {'label': 'FAKE'}, 'ztyuiqrhdk.mp4': {'label': 'FAKE'}, 'ztyvglkcsf.mp4': {'label': 'FAKE'}, 'zuwwbbusgl.mp4': {'label': 'FAKE'}, 'zxacihctqp.mp4': {'label': 'FAKE'}, 'zyufpqvpyu.mp4': {'label': 'FAKE'}, 'zzmgnglanj.mp4': {'label': 'FAKE'}}\n"
     ]
    }
   ],
   "source": [
    "import pandas as pd\n",
    "import numpy as np\n",
    "import json\n",
    "\n",
    "import util\n",
    "# import CNN\n",
    "\n",
    "def get_data_class(json, path):\n",
    "    df_train = pd.read_json(json)\n",
    "    print(df_train)\n",
    "    df_trains = [df_train]\n",
    "\n",
    "    dataProcess = util.DataProcess(df_trains, path, videoPreprocess)\n",
    "    return dataProcess\n",
    "\n",
    "def processs_data_to_json(sample_submission):\n",
    "    sample_submission = sample_submission.to_json(orient='values')\n",
    "    sample_submission = json.loads(sample_submission)\n",
    "    sample_submission = {i[0]:{\"label\":\"FAKE\"} for i in sample_submission}\n",
    "    print(sample_submission)\n",
    "### Setting\n",
    "data_size = 1\n",
    "batch_size = 1\n",
    "if batch_size > data_size:\n",
    "\tbatch_size = data_size\n",
    "test = True\n",
    "sample_submission = pd.read_csv(\"sample_submission.csv\")\n",
    "# print(sample_submission.columns.values)\n",
    "processs_data_to_json(sample_submission)"
   ]
  },
  {
   "cell_type": "code",
   "execution_count": 8,
   "metadata": {},
   "outputs": [
    {
     "name": "stdout",
     "output_type": "stream",
     "text": [
      "Input  array :  [[4]]\n",
      "<class 'numpy.ndarray'>\n",
      "The string representation of input array :  4\n",
      "<class 'str'>\n"
     ]
    }
   ],
   "source": [
    "arr = np.array([[4]]) \n",
    "  \n",
    "print (\"Input  array : \", arr) \n",
    "print(type(arr)) \n",
    "    \n",
    "out_arr = str(arr).replace(\"[\", \"\").replace(\"]\", \"\")\n",
    "print (\"The string representation of input array : \", out_arr)  \n",
    "print(type(out_arr)) \n"
   ]
  },
  {
   "cell_type": "code",
   "execution_count": null,
   "metadata": {},
   "outputs": [],
   "source": []
  }
 ],
 "metadata": {
  "kernelspec": {
   "display_name": "Python 3",
   "language": "python",
   "name": "python3"
  },
  "language_info": {
   "codemirror_mode": {
    "name": "ipython",
    "version": 3
   },
   "file_extension": ".py",
   "mimetype": "text/x-python",
   "name": "python",
   "nbconvert_exporter": "python",
   "pygments_lexer": "ipython3",
   "version": "3.6.9"
  }
 },
 "nbformat": 4,
 "nbformat_minor": 2
}
